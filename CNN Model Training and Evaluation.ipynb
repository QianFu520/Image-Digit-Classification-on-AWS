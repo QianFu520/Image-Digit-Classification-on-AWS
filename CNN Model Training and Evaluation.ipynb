{
 "cells": [
  {
   "cell_type": "code",
   "execution_count": 4,
   "id": "f1a9bbef",
   "metadata": {},
   "outputs": [],
   "source": [
    "import numpy as np\n",
    "\n",
    "from tensorflow.keras.utils import to_categorical\n",
    "from tensorflow.keras.models import Sequential\n",
    "from tensorflow.keras.layers import Dense\n",
    "from keras.layers import Dropout\n",
    "from keras.layers import Flatten\n",
    "from keras.layers.convolutional import Conv2D\n",
    "from keras.layers.convolutional import MaxPooling2D"
   ]
  },
  {
   "cell_type": "code",
   "execution_count": 6,
   "id": "703f1c07",
   "metadata": {},
   "outputs": [
    {
     "name": "stdout",
     "output_type": "stream",
     "text": [
      "X_train shape: (60000, 28, 28, 1)\n",
      "X_test shape: (10000, 28, 28, 1)\n",
      "y_train shape: (60000, 10)\n",
      "y_test shape: (10000, 10)\n"
     ]
    }
   ],
   "source": [
    "# Load the MNIST dataset\n",
    "data = np.load('mnist.npz')\n",
    "X_train, y_train = data['x_train'], data['y_train']\n",
    "X_test, y_test = data['x_test'], data['y_test']\n",
    "\n",
    "# Reshape the dataset to match CNN input\n",
    "X_train = X_train.reshape(X_train.shape[0], 28, 28, 1).astype('float32')\n",
    "X_test = X_test.reshape(X_test.shape[0], 28, 28, 1).astype('float32')\n",
    "\n",
    "# Normalize pixel values\n",
    "X_train /= 255.0\n",
    "X_test /= 255.0\n",
    "\n",
    "# One-hot encode the labels\n",
    "y_train = to_categorical(y_train, 10)\n",
    "y_test = to_categorical(y_test, 10)\n",
    "\n",
    "# Print dataset details\n",
    "print(\"X_train shape:\", X_train.shape)\n",
    "print(\"X_test shape:\", X_test.shape)\n",
    "print(\"y_train shape:\", y_train.shape)\n",
    "print(\"y_test shape:\", y_test.shape)\n"
   ]
  },
  {
   "cell_type": "markdown",
   "id": "4976a780",
   "metadata": {},
   "source": [
    "### Training the CNN Model"
   ]
  },
  {
   "cell_type": "code",
   "execution_count": 7,
   "id": "a4c552d5",
   "metadata": {},
   "outputs": [
    {
     "name": "stdout",
     "output_type": "stream",
     "text": [
      "Epoch 1/10\n",
      "300/300 - 16s - loss: 0.2376 - accuracy: 0.9317 - val_loss: 0.0747 - val_accuracy: 0.9772 - 16s/epoch - 52ms/step\n",
      "Epoch 2/10\n",
      "300/300 - 15s - loss: 0.0707 - accuracy: 0.9786 - val_loss: 0.0574 - val_accuracy: 0.9807 - 15s/epoch - 50ms/step\n",
      "Epoch 3/10\n",
      "300/300 - 15s - loss: 0.0508 - accuracy: 0.9840 - val_loss: 0.0406 - val_accuracy: 0.9863 - 15s/epoch - 49ms/step\n",
      "Epoch 4/10\n",
      "300/300 - 15s - loss: 0.0396 - accuracy: 0.9881 - val_loss: 0.0383 - val_accuracy: 0.9874 - 15s/epoch - 49ms/step\n",
      "Epoch 5/10\n",
      "300/300 - 16s - loss: 0.0332 - accuracy: 0.9895 - val_loss: 0.0383 - val_accuracy: 0.9869 - 16s/epoch - 52ms/step\n",
      "Epoch 6/10\n",
      "300/300 - 15s - loss: 0.0268 - accuracy: 0.9916 - val_loss: 0.0379 - val_accuracy: 0.9885 - 15s/epoch - 49ms/step\n",
      "Epoch 7/10\n",
      "300/300 - 15s - loss: 0.0224 - accuracy: 0.9927 - val_loss: 0.0373 - val_accuracy: 0.9887 - 15s/epoch - 51ms/step\n",
      "Epoch 8/10\n",
      "300/300 - 17s - loss: 0.0202 - accuracy: 0.9934 - val_loss: 0.0371 - val_accuracy: 0.9882 - 17s/epoch - 56ms/step\n",
      "Epoch 9/10\n",
      "300/300 - 14s - loss: 0.0155 - accuracy: 0.9952 - val_loss: 0.0328 - val_accuracy: 0.9892 - 14s/epoch - 47ms/step\n",
      "Epoch 10/10\n",
      "300/300 - 14s - loss: 0.0145 - accuracy: 0.9953 - val_loss: 0.0392 - val_accuracy: 0.9883 - 14s/epoch - 48ms/step\n"
     ]
    },
    {
     "data": {
      "text/plain": [
       "<keras.callbacks.History at 0x1a8633c39d0>"
      ]
     },
     "execution_count": 7,
     "metadata": {},
     "output_type": "execute_result"
    }
   ],
   "source": [
    "# Define the CNN model\n",
    "def CNN_model():\n",
    "    model = Sequential()\n",
    "    model.add(Conv2D(32, (5, 5), input_shape=(28, 28, 1), activation='relu'))\n",
    "    model.add(MaxPooling2D(pool_size=(2, 2)))\n",
    "    model.add(Dropout(0.2))\n",
    "    model.add(Flatten())\n",
    "    model.add(Dense(128, activation='relu'))\n",
    "    model.add(Dense(10, activation='softmax'))\n",
    "    \n",
    "    # Compile the model\n",
    "    model.compile(loss='categorical_crossentropy', optimizer='adam', metrics=['accuracy'])\n",
    "    \n",
    "    # Save the model\n",
    "    model.save('CNN-model.h5')\n",
    "    return model\n",
    "\n",
    "# Build the model\n",
    "model = CNN_model()\n",
    "\n",
    "# Train the model\n",
    "model.fit(X_train, y_train, validation_data=(X_test, y_test), epochs=10, batch_size=200, verbose=2)\n"
   ]
  },
  {
   "cell_type": "code",
   "execution_count": 8,
   "id": "16f3b67c",
   "metadata": {},
   "outputs": [
    {
     "name": "stdout",
     "output_type": "stream",
     "text": [
      "313/313 [==============================] - 1s 2ms/step - loss: 0.0392 - accuracy: 0.9883\n",
      "CNN Model - Loss: 0.039184313267469406, Accuracy: 98.83%\n"
     ]
    }
   ],
   "source": [
    "# Evaluate the model\n",
    "cnn_loss, cnn_accuracy = model.evaluate(X_test, y_test, verbose=1)\n",
    "print(f\"CNN Model - Loss: {cnn_loss}, Accuracy: {cnn_accuracy * 100:.2f}%\")\n"
   ]
  },
  {
   "cell_type": "code",
   "execution_count": null,
   "id": "b8088747",
   "metadata": {},
   "outputs": [],
   "source": []
  }
 ],
 "metadata": {
  "kernelspec": {
   "display_name": "Python 3 (ipykernel)",
   "language": "python",
   "name": "python3"
  },
  "language_info": {
   "codemirror_mode": {
    "name": "ipython",
    "version": 3
   },
   "file_extension": ".py",
   "mimetype": "text/x-python",
   "name": "python",
   "nbconvert_exporter": "python",
   "pygments_lexer": "ipython3",
   "version": "3.8.13"
  },
  "toc": {
   "base_numbering": 1,
   "nav_menu": {},
   "number_sections": false,
   "sideBar": true,
   "skip_h1_title": false,
   "title_cell": "Table of Contents",
   "title_sidebar": "Contents",
   "toc_cell": false,
   "toc_position": {},
   "toc_section_display": true,
   "toc_window_display": false
  }
 },
 "nbformat": 4,
 "nbformat_minor": 5
}
