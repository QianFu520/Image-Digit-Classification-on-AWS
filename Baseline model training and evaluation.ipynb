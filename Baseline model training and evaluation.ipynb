{
 "cells": [
  {
   "cell_type": "code",
   "execution_count": 20,
   "id": "5152d974",
   "metadata": {},
   "outputs": [],
   "source": [
    "import numpy as np\n",
    "\n",
    "from tensorflow.keras.utils import to_categorical\n",
    "from tensorflow.keras.models import Sequential\n",
    "from tensorflow.keras.layers import Dense"
   ]
  },
  {
   "cell_type": "code",
   "execution_count": 8,
   "id": "eedbaf5f",
   "metadata": {},
   "outputs": [
    {
     "name": "stdout",
     "output_type": "stream",
     "text": [
      "X_train shape: (60000, 28, 28, 1)\n",
      "X_test shape: (10000, 28, 28, 1)\n",
      "y_train shape: (60000,)\n",
      "y_test shape: (10000,)\n"
     ]
    }
   ],
   "source": [
    "# Load the MNIST dataset\n",
    "data = np.load('mnist.npz')\n",
    "X_train, y_train = data['x_train'], data['y_train']\n",
    "X_test, y_test = data['x_test'], data['y_test']\n",
    "\n",
    "# Normalize pixel values to [0, 1]\n",
    "X_train = X_train / 255.0\n",
    "X_test = X_test / 255.0\n",
    "\n",
    "# Reshape data for the models\n",
    "X_train = X_train.reshape(X_train.shape[0], 28, 28, 1)  # Adding channel dimension\n",
    "X_test = X_test.reshape(X_test.shape[0], 28, 28, 1)\n",
    "\n",
    "# Print dataset details\n",
    "print(\"X_train shape:\", X_train.shape)\n",
    "print(\"X_test shape:\", X_test.shape)\n",
    "print(\"y_train shape:\", y_train.shape)\n",
    "print(\"y_test shape:\", y_test.shape)\n"
   ]
  },
  {
   "cell_type": "markdown",
   "id": "7ba29fe6",
   "metadata": {},
   "source": [
    "### Build and Train the Baseline Model"
   ]
  },
  {
   "cell_type": "code",
   "execution_count": 16,
   "id": "78553350",
   "metadata": {},
   "outputs": [],
   "source": [
    "## prepare the dataset\n",
    "\n",
    "# Flatten the training and test datasets\n",
    "num_pixels = X_train.shape[1] * X_train.shape[2]  # 28*28 = 784\n",
    "X_train_flattened = X_train.reshape((X_train.shape[0], num_pixels)).astype('float32')\n",
    "X_test_flattened = X_test.reshape((X_test.shape[0], num_pixels)).astype('float32')\n",
    "\n",
    "# Normalize inputs from 0-255 to 0-1\n",
    "X_train_flattened /= 255.0\n",
    "X_test_flattened /= 255.0\n",
    "\n",
    "# One-hot encode the labels\n",
    "from tensorflow.keras.utils import to_categorical\n",
    "y_train_one_hot = to_categorical(y_train, 10)\n",
    "y_test_one_hot = to_categorical(y_test, 10)\n"
   ]
  },
  {
   "cell_type": "code",
   "execution_count": 18,
   "id": "d6c34fb2",
   "metadata": {},
   "outputs": [
    {
     "name": "stdout",
     "output_type": "stream",
     "text": [
      "Epoch 1/10\n",
      "300/300 - 2s - loss: 1.5134 - accuracy: 0.6641 - val_loss: 0.7850 - val_accuracy: 0.8286 - 2s/epoch - 7ms/step\n",
      "Epoch 2/10\n",
      "300/300 - 2s - loss: 0.6001 - accuracy: 0.8552 - val_loss: 0.4643 - val_accuracy: 0.8834 - 2s/epoch - 5ms/step\n",
      "Epoch 3/10\n",
      "300/300 - 2s - loss: 0.4247 - accuracy: 0.8874 - val_loss: 0.3718 - val_accuracy: 0.9005 - 2s/epoch - 5ms/step\n",
      "Epoch 4/10\n",
      "300/300 - 2s - loss: 0.3631 - accuracy: 0.8998 - val_loss: 0.3326 - val_accuracy: 0.9076 - 2s/epoch - 5ms/step\n",
      "Epoch 5/10\n",
      "300/300 - 2s - loss: 0.3323 - accuracy: 0.9064 - val_loss: 0.3106 - val_accuracy: 0.9118 - 2s/epoch - 5ms/step\n",
      "Epoch 6/10\n",
      "300/300 - 2s - loss: 0.3125 - accuracy: 0.9107 - val_loss: 0.2968 - val_accuracy: 0.9134 - 2s/epoch - 6ms/step\n",
      "Epoch 7/10\n",
      "300/300 - 2s - loss: 0.2975 - accuracy: 0.9151 - val_loss: 0.2828 - val_accuracy: 0.9171 - 2s/epoch - 6ms/step\n",
      "Epoch 8/10\n",
      "300/300 - 2s - loss: 0.2856 - accuracy: 0.9184 - val_loss: 0.2733 - val_accuracy: 0.9206 - 2s/epoch - 5ms/step\n",
      "Epoch 9/10\n",
      "300/300 - 1s - loss: 0.2756 - accuracy: 0.9205 - val_loss: 0.2655 - val_accuracy: 0.9230 - 1s/epoch - 5ms/step\n",
      "Epoch 10/10\n",
      "300/300 - 2s - loss: 0.2661 - accuracy: 0.9238 - val_loss: 0.2555 - val_accuracy: 0.9268 - 2s/epoch - 5ms/step\n"
     ]
    }
   ],
   "source": [
    "# Define the baseline model\n",
    "def baseline_model():\n",
    "    model = Sequential()\n",
    "    model.add(Dense(num_pixels, input_dim=num_pixels, kernel_initializer='normal', activation='relu'))\n",
    "    model.add(Dense(10, kernel_initializer='normal', activation='softmax'))\n",
    "    model.compile(loss='categorical_crossentropy', optimizer='adam', metrics=['accuracy'])\n",
    "    return model\n",
    "\n",
    "# Build the model\n",
    "model = baseline_model()\n",
    "\n",
    "# Train the model\n",
    "model.fit(X_train_flattened, y_train_one_hot, validation_data=(X_test_flattened, y_test_one_hot), epochs=10, batch_size=200, verbose=2)\n",
    "\n",
    "# Save the trained model\n",
    "model.save('baseline_trained.h5')\n"
   ]
  },
  {
   "cell_type": "code",
   "execution_count": 19,
   "id": "f7c0b900",
   "metadata": {},
   "outputs": [
    {
     "name": "stdout",
     "output_type": "stream",
     "text": [
      "313/313 [==============================] - 1s 1ms/step - loss: 0.2555 - accuracy: 0.9268\n",
      "Baseline Model - Loss: 0.25553709268569946, Accuracy: 92.68%\n"
     ]
    }
   ],
   "source": [
    "# Evaluate the model\n",
    "baseline_loss, baseline_accuracy = model.evaluate(X_test_flattened, y_test_one_hot, verbose=1)\n",
    "print(f\"Baseline Model - Loss: {baseline_loss}, Accuracy: {baseline_accuracy * 100:.2f}%\")\n"
   ]
  },
  {
   "cell_type": "code",
   "execution_count": null,
   "id": "def9b14a",
   "metadata": {},
   "outputs": [],
   "source": []
  }
 ],
 "metadata": {
  "kernelspec": {
   "display_name": "Python 3 (ipykernel)",
   "language": "python",
   "name": "python3"
  },
  "language_info": {
   "codemirror_mode": {
    "name": "ipython",
    "version": 3
   },
   "file_extension": ".py",
   "mimetype": "text/x-python",
   "name": "python",
   "nbconvert_exporter": "python",
   "pygments_lexer": "ipython3",
   "version": "3.8.13"
  },
  "toc": {
   "base_numbering": 1,
   "nav_menu": {},
   "number_sections": false,
   "sideBar": true,
   "skip_h1_title": false,
   "title_cell": "Table of Contents",
   "title_sidebar": "Contents",
   "toc_cell": false,
   "toc_position": {},
   "toc_section_display": true,
   "toc_window_display": false
  }
 },
 "nbformat": 4,
 "nbformat_minor": 5
}
