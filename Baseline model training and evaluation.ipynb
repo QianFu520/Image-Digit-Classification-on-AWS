{
 "cells": [
  {
   "cell_type": "code",
   "execution_count": 1,
   "id": "5152d974",
   "metadata": {},
   "outputs": [],
   "source": [
    "import numpy as np\n",
    "\n",
    "from tensorflow.keras.utils import to_categorical\n",
    "from tensorflow.keras.models import Sequential\n",
    "from tensorflow.keras.layers import Dense"
   ]
  },
  {
   "cell_type": "code",
   "execution_count": 2,
   "id": "eedbaf5f",
   "metadata": {},
   "outputs": [
    {
     "name": "stdout",
     "output_type": "stream",
     "text": [
      "X_train shape: (60000, 28, 28, 1)\n",
      "X_test shape: (10000, 28, 28, 1)\n",
      "y_train shape: (60000,)\n",
      "y_test shape: (10000,)\n"
     ]
    }
   ],
   "source": [
    "# Load the MNIST dataset\n",
    "data = np.load('mnist.npz')\n",
    "X_train, y_train = data['x_train'], data['y_train']\n",
    "X_test, y_test = data['x_test'], data['y_test']\n",
    "\n",
    "# Normalize pixel values to [0, 1]\n",
    "X_train = X_train / 255.0\n",
    "X_test = X_test / 255.0\n",
    "\n",
    "# Reshape data for the models\n",
    "X_train = X_train.reshape(X_train.shape[0], 28, 28, 1)  # Adding channel dimension\n",
    "X_test = X_test.reshape(X_test.shape[0], 28, 28, 1)\n",
    "\n",
    "# Print dataset details\n",
    "print(\"X_train shape:\", X_train.shape)\n",
    "print(\"X_test shape:\", X_test.shape)\n",
    "print(\"y_train shape:\", y_train.shape)\n",
    "print(\"y_test shape:\", y_test.shape)\n"
   ]
  },
  {
   "cell_type": "markdown",
   "id": "7ba29fe6",
   "metadata": {},
   "source": [
    "### Build and Train the Baseline Model"
   ]
  },
  {
   "cell_type": "code",
   "execution_count": 3,
   "id": "78553350",
   "metadata": {},
   "outputs": [],
   "source": [
    "## prepare the dataset\n",
    "\n",
    "# Flatten the training and test datasets\n",
    "num_pixels = X_train.shape[1] * X_train.shape[2]  # 28*28 = 784\n",
    "X_train_flattened = X_train.reshape((X_train.shape[0], num_pixels)).astype('float32')\n",
    "X_test_flattened = X_test.reshape((X_test.shape[0], num_pixels)).astype('float32')\n",
    "\n",
    "# Normalize inputs from 0-255 to 0-1\n",
    "X_train_flattened /= 255.0\n",
    "X_test_flattened /= 255.0\n",
    "\n",
    "# One-hot encode the labels\n",
    "from tensorflow.keras.utils import to_categorical\n",
    "y_train_one_hot = to_categorical(y_train, 10)\n",
    "y_test_one_hot = to_categorical(y_test, 10)\n"
   ]
  },
  {
   "cell_type": "code",
   "execution_count": 4,
   "id": "d6c34fb2",
   "metadata": {},
   "outputs": [
    {
     "name": "stdout",
     "output_type": "stream",
     "text": [
      "Epoch 1/10\n",
      "300/300 - 2s - loss: 1.5044 - accuracy: 0.6712 - val_loss: 0.7804 - val_accuracy: 0.8318\n",
      "Epoch 2/10\n",
      "300/300 - 1s - loss: 0.5964 - accuracy: 0.8558 - val_loss: 0.4614 - val_accuracy: 0.8827\n",
      "Epoch 3/10\n",
      "300/300 - 2s - loss: 0.4235 - accuracy: 0.8870 - val_loss: 0.3708 - val_accuracy: 0.9005\n",
      "Epoch 4/10\n",
      "300/300 - 2s - loss: 0.3620 - accuracy: 0.8996 - val_loss: 0.3345 - val_accuracy: 0.9040\n",
      "Epoch 5/10\n",
      "300/300 - 2s - loss: 0.3306 - accuracy: 0.9070 - val_loss: 0.3099 - val_accuracy: 0.9112\n",
      "Epoch 6/10\n",
      "300/300 - 1s - loss: 0.3099 - accuracy: 0.9117 - val_loss: 0.2951 - val_accuracy: 0.9159\n",
      "Epoch 7/10\n",
      "300/300 - 1s - loss: 0.2951 - accuracy: 0.9153 - val_loss: 0.2814 - val_accuracy: 0.9179\n",
      "Epoch 8/10\n",
      "300/300 - 1s - loss: 0.2824 - accuracy: 0.9186 - val_loss: 0.2713 - val_accuracy: 0.9237\n",
      "Epoch 9/10\n",
      "300/300 - 1s - loss: 0.2717 - accuracy: 0.9216 - val_loss: 0.2606 - val_accuracy: 0.9244\n",
      "Epoch 10/10\n",
      "300/300 - 1s - loss: 0.2613 - accuracy: 0.9246 - val_loss: 0.2533 - val_accuracy: 0.9265\n"
     ]
    }
   ],
   "source": [
    "# Define the baseline model\n",
    "def baseline_model():\n",
    "    model = Sequential()\n",
    "    model.add(Dense(num_pixels, input_dim=num_pixels, kernel_initializer='normal', activation='relu'))\n",
    "    model.add(Dense(10, kernel_initializer='normal', activation='softmax'))\n",
    "    model.compile(loss='categorical_crossentropy', optimizer='adam', metrics=['accuracy'])\n",
    "    return model\n",
    "\n",
    "# Build the model\n",
    "model = baseline_model()\n",
    "\n",
    "# Train the model\n",
    "model.fit(X_train_flattened, y_train_one_hot, validation_data=(X_test_flattened, y_test_one_hot), epochs=10, batch_size=200, verbose=2)\n",
    "\n",
    "# Save the trained model\n",
    "model.save('baseline.h5')\n"
   ]
  },
  {
   "cell_type": "code",
   "execution_count": 5,
   "id": "f7c0b900",
   "metadata": {},
   "outputs": [
    {
     "name": "stdout",
     "output_type": "stream",
     "text": [
      "313/313 [==============================] - 1s 1ms/step - loss: 0.2533 - accuracy: 0.9265\n",
      "Baseline Model - Loss: 0.2533239722251892, Accuracy: 92.65%\n"
     ]
    }
   ],
   "source": [
    "# Evaluate the model\n",
    "baseline_loss, baseline_accuracy = model.evaluate(X_test_flattened, y_test_one_hot, verbose=1)\n",
    "print(f\"Baseline Model - Loss: {baseline_loss}, Accuracy: {baseline_accuracy * 100:.2f}%\")\n"
   ]
  },
  {
   "cell_type": "code",
   "execution_count": null,
   "id": "def9b14a",
   "metadata": {},
   "outputs": [],
   "source": []
  }
 ],
 "metadata": {
  "kernelspec": {
   "display_name": "Python 3 (ipykernel)",
   "language": "python",
   "name": "python3"
  },
  "language_info": {
   "codemirror_mode": {
    "name": "ipython",
    "version": 3
   },
   "file_extension": ".py",
   "mimetype": "text/x-python",
   "name": "python",
   "nbconvert_exporter": "python",
   "pygments_lexer": "ipython3",
   "version": "3.8.13"
  },
  "toc": {
   "base_numbering": 1,
   "nav_menu": {},
   "number_sections": false,
   "sideBar": true,
   "skip_h1_title": false,
   "title_cell": "Table of Contents",
   "title_sidebar": "Contents",
   "toc_cell": false,
   "toc_position": {},
   "toc_section_display": true,
   "toc_window_display": false
  }
 },
 "nbformat": 4,
 "nbformat_minor": 5
}
